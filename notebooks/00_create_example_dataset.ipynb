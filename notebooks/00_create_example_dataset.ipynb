{
 "cells": [
  {
   "cell_type": "code",
   "execution_count": 12,
   "metadata": {},
   "outputs": [],
   "source": [
    "import os\n",
    "from PIL import Image\n",
    "\n",
    "import numpy as np\n",
    "import tensorflow as tf\n",
    "import tensorflow_datasets as tfds\n",
    "from sklearn.model_selection import train_test_split"
   ]
  },
  {
   "cell_type": "code",
   "execution_count": 13,
   "metadata": {},
   "outputs": [],
   "source": [
    "def load_and_preprocess_dataset(dataset_name='tf_flowers'):\n",
    "    dataset, info = tfds.load(dataset_name, with_info=True, as_supervised=True)\n",
    "    \n",
    "    images = []\n",
    "    labels = []\n",
    "    for img, lbl in tfds.as_numpy(dataset['train']):\n",
    "        img = (img * 255).astype(np.uint8)  # Convert to 8-bit integer\n",
    "        images.append(img)\n",
    "        labels.append(lbl)\n",
    "\n",
    "    X_train, X_test, y_train, y_test = train_test_split(images, labels, test_size=0.2, random_state=42)\n",
    "    return (X_train, y_train), (X_test, y_test)\n",
    "\n",
    "\n",
    "def save_images(images, labels, data_folder):\n",
    "    if not os.path.exists(data_folder):\n",
    "        os.makedirs(data_folder)\n",
    "\n",
    "    image_paths = []\n",
    "    for i, (img, label) in enumerate(zip(images, labels)):\n",
    "        img = Image.fromarray(img)\n",
    "        img_path = os.path.join(data_folder, f'image_{i}.png')\n",
    "        img.save(img_path)\n",
    "        image_paths.append((img_path, label))\n",
    "\n",
    "    with open(os.path.join(data_folder, 'labels.txt'), 'w') as f:\n",
    "        for img_path, label in image_paths:\n",
    "            f.write(f\"{img_path},{label}\\n\")"
   ]
  },
  {
   "cell_type": "code",
   "execution_count": 14,
   "metadata": {},
   "outputs": [],
   "source": [
    "(X_train, y_train), (X_test, y_test) = load_and_preprocess_dataset('tf_flowers')\n"
   ]
  },
  {
   "cell_type": "code",
   "execution_count": null,
   "metadata": {},
   "outputs": [],
   "source": [
    "save_images(X_train, y_train, os.path.join(\"..\", \"data\", \"train\"))\n",
    "save_images(X_test, y_test, os.path.join(\"..\", \"data\", \"test\"))"
   ]
  }
 ],
 "metadata": {
  "kernelspec": {
   "display_name": "Python 3 (ipykernel)",
   "language": "python",
   "name": "python3"
  },
  "language_info": {
   "codemirror_mode": {
    "name": "ipython",
    "version": 3
   },
   "file_extension": ".py",
   "mimetype": "text/x-python",
   "name": "python",
   "nbconvert_exporter": "python",
   "pygments_lexer": "ipython3",
   "version": "3.10.7"
  }
 },
 "nbformat": 4,
 "nbformat_minor": 4
}
