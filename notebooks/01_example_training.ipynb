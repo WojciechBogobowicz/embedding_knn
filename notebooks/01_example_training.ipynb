{
 "cells": [
  {
   "cell_type": "markdown",
   "metadata": {},
   "source": [
    "# Imports"
   ]
  },
  {
   "cell_type": "code",
   "execution_count": null,
   "metadata": {},
   "outputs": [],
   "source": [
    "import sys; sys.path.append(\"..\")\n",
    "from pathlib import Path\n",
    "from PIL import Image\n",
    "\n",
    "import sklearn.metrics\n",
    "import numpy as np\n",
    "\n",
    "import src.model"
   ]
  },
  {
   "cell_type": "markdown",
   "metadata": {},
   "source": [
    "# Helpers"
   ]
  },
  {
   "cell_type": "code",
   "execution_count": null,
   "metadata": {},
   "outputs": [],
   "source": [
    "def read_labels_file(path):\n",
    "  with open(path, 'r') as f:\n",
    "    whole_csv = f.readlines()\n",
    "  rows = [row.rstrip(\"\\n\").split(',') for row in whole_csv]\n",
    "  paths, labels = zip(*rows)\n",
    "  labels = list(map(int, labels))\n",
    "  return paths, labels\n",
    "\n",
    "def read_img(path):\n",
    "  im_frame = Image.open(path)\n",
    "  return np.array(im_frame)"
   ]
  },
  {
   "cell_type": "markdown",
   "metadata": {},
   "source": [
    "# Data Loading"
   ]
  },
  {
   "cell_type": "code",
   "execution_count": null,
   "metadata": {},
   "outputs": [],
   "source": [
    "training_images_meta = Path('..', 'data', 'train', 'labels.txt')\n",
    "testing_images_meta = Path('..', 'data', 'test', 'labels.txt')\n",
    "training_images_meta.exists(), testing_images_meta.exists()"
   ]
  },
  {
   "cell_type": "code",
   "execution_count": null,
   "metadata": {},
   "outputs": [],
   "source": [
    "train_paths, train_labels = read_labels_file(training_images_meta)\n",
    "test_paths, test_labels = read_labels_file(testing_images_meta)\n",
    "len(train_paths), len(train_labels), len(test_paths), len(test_labels)"
   ]
  },
  {
   "cell_type": "markdown",
   "metadata": {},
   "source": [
    "# Train model"
   ]
  },
  {
   "cell_type": "code",
   "execution_count": null,
   "metadata": {},
   "outputs": [],
   "source": [
    "model = src.model.ImgEmbeddingKnn(base_model=\"MobileNetV3Small\", n_neighbors=3)\n",
    "model.train(train_paths[:10], train_labels[:10])"
   ]
  },
  {
   "cell_type": "markdown",
   "metadata": {},
   "source": [
    "# Evaluate Model"
   ]
  },
  {
   "cell_type": "code",
   "execution_count": null,
   "metadata": {},
   "outputs": [],
   "source": [
    "y_pred = [model.predict(p) for p in test_paths]\n",
    "acc = sklearn.metrics.accuracy_score(test_labels[:10], y_pred[:10])\n",
    "print(f\"Model accuracy = {acc}\")"
   ]
  },
  {
   "cell_type": "markdown",
   "metadata": {},
   "source": [
    "## Save Model"
   ]
  },
  {
   "cell_type": "code",
   "execution_count": null,
   "metadata": {},
   "outputs": [],
   "source": [
    "import importlib\n",
    "importlib.reload(src.model)"
   ]
  },
  {
   "cell_type": "code",
   "execution_count": null,
   "metadata": {},
   "outputs": [],
   "source": [
    "model.save_model(str(Path(\"..\", \"models\", \"demo_model\")))"
   ]
  }
 ],
 "metadata": {
  "kernelspec": {
   "display_name": "env",
   "language": "python",
   "name": "python3"
  },
  "language_info": {
   "codemirror_mode": {
    "name": "ipython",
    "version": 3
   },
   "file_extension": ".py",
   "mimetype": "text/x-python",
   "name": "python",
   "nbconvert_exporter": "python",
   "pygments_lexer": "ipython3",
   "version": "3.10.7"
  },
  "orig_nbformat": 4
 },
 "nbformat": 4,
 "nbformat_minor": 2
}
